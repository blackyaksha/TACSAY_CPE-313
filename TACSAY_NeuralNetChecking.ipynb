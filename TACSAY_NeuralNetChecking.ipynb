{
  "nbformat": 4,
  "nbformat_minor": 0,
  "metadata": {
    "colab": {
      "provenance": []
    },
    "kernelspec": {
      "name": "python3",
      "display_name": "Python 3"
    },
    "language_info": {
      "name": "python"
    }
  },
  "cells": [
    {
      "cell_type": "markdown",
      "source": [
        "**Name:** Tacsay, Marie Emmanuelle T.\n",
        "<br>**Section:** CPE32S8\n",
        "<br>**Instructor:** Engr. Roman Richard"
      ],
      "metadata": {
        "id": "h2nuDNvXqCHk"
      }
    },
    {
      "cell_type": "code",
      "execution_count": 177,
      "metadata": {
        "id": "iBkcRYg1IamS"
      },
      "outputs": [],
      "source": [
        "import numpy as np\n",
        "import random\n",
        "\n",
        "class neuron: #creating class\n",
        "\n",
        "  def __init__(self, input, weight):\n",
        "    self.input = input\n",
        "    self.weight = weight\n",
        "\n",
        "  def mul(self, input, weight): #multiplying the elements of the two list\n",
        "    return [a * b for a, b in\n",
        "            zip(self.input, self.weight)]\n",
        "\n",
        "  #computing the weight of input and input weights\n",
        "  def adder(self, input, weight):\n",
        "    total = 0 #initialize value\n",
        "    prod = [a * b for a, b in zip(input, weight)] #product of the two lists\n",
        "    for i in range(0, len(prod)):\n",
        "      total = total + prod[i] #summation of all elements\n",
        "    return total #returning the sum\n",
        "\n",
        "  def relu (self,val): #relu function\n",
        "    if val > 0:\n",
        "      return val\n",
        "    if val < 0:\n",
        "      return 0\n"
      ]
    },
    {
      "cell_type": "code",
      "source": [
        "input = np.linspace(-2,-1,10) #input\n",
        "weight = np.linspace(0,1,10) #input weights"
      ],
      "metadata": {
        "id": "P1a_pDLfOI7P"
      },
      "execution_count": 178,
      "outputs": []
    },
    {
      "cell_type": "code",
      "source": [
        "obj = neuron(input, weight) #calling the class\n",
        "\n",
        "sum = obj.adder(input, weight) #using the adder function\n",
        "product = obj.mul(input, weight) #using the mul function\n",
        "relu = obj.relu(sum) #using the relu function"
      ],
      "metadata": {
        "id": "18OlUNRNcdsE"
      },
      "execution_count": 179,
      "outputs": []
    },
    {
      "cell_type": "code",
      "source": [
        "print(sum)"
      ],
      "metadata": {
        "colab": {
          "base_uri": "https://localhost:8080/"
        },
        "id": "PI1aOs4ieJ2k",
        "outputId": "10ffd9d7-775e-4956-add1-f14991ae780a"
      },
      "execution_count": 180,
      "outputs": [
        {
          "output_type": "stream",
          "name": "stdout",
          "text": [
            "-6.481481481481482\n"
          ]
        }
      ]
    },
    {
      "cell_type": "code",
      "source": [
        "print(relu)"
      ],
      "metadata": {
        "colab": {
          "base_uri": "https://localhost:8080/"
        },
        "id": "4SLwCTS_b8Hl",
        "outputId": "493b771e-48fb-4132-951d-fcb6fb0b8a0e"
      },
      "execution_count": 181,
      "outputs": [
        {
          "output_type": "stream",
          "name": "stdout",
          "text": [
            "0\n"
          ]
        }
      ]
    },
    {
      "cell_type": "markdown",
      "source": [
        "# Checking the Neural Network"
      ],
      "metadata": {
        "id": "sqNz6PwZRWax"
      }
    },
    {
      "cell_type": "markdown",
      "source": [
        "![image.png](data:image/png;base64,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)"
      ],
      "metadata": {
        "id": "PZzdprkbRTwR"
      }
    },
    {
      "cell_type": "code",
      "source": [
        "obj = neuron(input, weight) #calling the class"
      ],
      "metadata": {
        "id": "I-ydzuRLcsq7"
      },
      "execution_count": 182,
      "outputs": []
    },
    {
      "cell_type": "code",
      "source": [
        "input = [5,-6,7,8,9] #using the same input in the excel\n",
        "weight = [1,3,5,-7,9] #input weights"
      ],
      "metadata": {
        "id": "W_A_l6BncuEz"
      },
      "execution_count": 183,
      "outputs": []
    },
    {
      "cell_type": "code",
      "source": [
        "sum1 = obj.adder(input, weight) #first newron\n",
        "product1 = obj.mul(input, weight)\n",
        "relu1 = obj.relu(sum1)\n",
        "\n",
        "sum2 = obj.adder(input, weight) #second neuron\n",
        "product2 = obj.mul(input, weight)\n",
        "relu2 = obj.relu(sum2)\n",
        "\n",
        "sum3 = obj.adder(input, weight) #third neuron\n",
        "product3 = obj.mul(input, weight)\n",
        "relu3 = obj.relu(sum3)\n",
        "\n",
        "list = [relu1, relu2, relu3] #putting the 3 outputs into a list"
      ],
      "metadata": {
        "id": "tTbrAsUURlio"
      },
      "execution_count": 184,
      "outputs": []
    },
    {
      "cell_type": "code",
      "source": [
        "list"
      ],
      "metadata": {
        "colab": {
          "base_uri": "https://localhost:8080/"
        },
        "id": "quU8YmWNbXez",
        "outputId": "588da1c9-780a-43ec-f869-0f770c8acd0c"
      },
      "execution_count": 185,
      "outputs": [
        {
          "output_type": "execute_result",
          "data": {
            "text/plain": [
              "[47, 47, 47]"
            ]
          },
          "metadata": {},
          "execution_count": 185
        }
      ]
    },
    {
      "cell_type": "code",
      "source": [
        "input_last = list #list of the 3 outputs of first 3 layers\n",
        "weight_last = [15,-17,6]"
      ],
      "metadata": {
        "id": "MImUmebmdf17"
      },
      "execution_count": 186,
      "outputs": []
    },
    {
      "cell_type": "code",
      "source": [
        "sum_last = obj.adder(input_last, weight_last) #second layer of neuron\n",
        "product_last = obj.mul(input_last, weight_last)\n",
        "relu_last = obj.relu(sum_last)"
      ],
      "metadata": {
        "id": "7VA_JgyZaLKU"
      },
      "execution_count": 187,
      "outputs": []
    },
    {
      "cell_type": "code",
      "source": [
        "print(sum_last) #weight of input and input weights"
      ],
      "metadata": {
        "colab": {
          "base_uri": "https://localhost:8080/"
        },
        "id": "wOV5ebujC8M5",
        "outputId": "3435c607-9e72-4cc6-a9ad-865d61396214"
      },
      "execution_count": 188,
      "outputs": [
        {
          "output_type": "stream",
          "name": "stdout",
          "text": [
            "188\n"
          ]
        }
      ]
    },
    {
      "cell_type": "code",
      "source": [
        "print(relu_last) #output with the use of the activation function"
      ],
      "metadata": {
        "colab": {
          "base_uri": "https://localhost:8080/"
        },
        "id": "VbS4yzdhds35",
        "outputId": "4014aa57-5845-46b2-efa0-986cbbc5f924"
      },
      "execution_count": 189,
      "outputs": [
        {
          "output_type": "stream",
          "name": "stdout",
          "text": [
            "188\n"
          ]
        }
      ]
    }
  ]
}