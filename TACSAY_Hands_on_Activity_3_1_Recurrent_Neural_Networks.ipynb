{
  "cells": [
    {
      "cell_type": "markdown",
      "source": [
        "**Name:** Tacsay, Marie Emmanuelle T.\n",
        "<br> **Section:** CPE32S8\n",
        "<br> **Instructor:** Engr. Roman Richard"
      ],
      "metadata": {
        "id": "AA2Tdb6PQ-06"
      },
      "id": "AA2Tdb6PQ-06"
    },
    {
      "cell_type": "markdown",
      "id": "fourth-lesbian",
      "metadata": {
        "id": "fourth-lesbian"
      },
      "source": [
        "# Activity 3.1 - Recurrent Neural Networks"
      ]
    },
    {
      "cell_type": "markdown",
      "id": "historical-import",
      "metadata": {
        "id": "historical-import"
      },
      "source": [
        "#### Objective(s):\n",
        "\n",
        "This activity aims to introduce how to build a recurrent neural network"
      ]
    },
    {
      "cell_type": "markdown",
      "id": "related-karma",
      "metadata": {
        "id": "related-karma"
      },
      "source": [
        "#### Intended Learning Outcomes (ILOs):\n",
        "* Demonstrate how to build and train neural recurrent neural network\n",
        "* Evaluate the score and accuracy of the recurrent neural network"
      ]
    },
    {
      "cell_type": "markdown",
      "id": "fossil-thermal",
      "metadata": {
        "id": "fossil-thermal"
      },
      "source": [
        "#### Resources:\n",
        "* Jupyter Notebook\n",
        "* IMDB"
      ]
    },
    {
      "cell_type": "markdown",
      "id": "australian-marketing",
      "metadata": {
        "id": "australian-marketing"
      },
      "source": [
        "#### Procedures\n",
        "Load the necessary libraries"
      ]
    },
    {
      "cell_type": "code",
      "execution_count": 1,
      "id": "based-growing",
      "metadata": {
        "id": "based-growing"
      },
      "outputs": [],
      "source": [
        "from __future__ import print_function\n",
        "import keras\n",
        "from keras.preprocessing import sequence\n",
        "from keras.models import Sequential\n",
        "from keras.layers import Dense, Embedding\n",
        "from keras.layers import SimpleRNN\n",
        "from keras.datasets import imdb\n",
        "from keras import initializers"
      ]
    },
    {
      "cell_type": "markdown",
      "id": "romance-object",
      "metadata": {
        "id": "romance-object"
      },
      "source": [
        "* Set the max_features to 20000\n",
        "* Set the maximum length of a sequence\n",
        "* Use the batch size of 32"
      ]
    },
    {
      "cell_type": "code",
      "execution_count": 2,
      "id": "pending-finance",
      "metadata": {
        "id": "pending-finance"
      },
      "outputs": [],
      "source": [
        "max_features = 20000\n",
        "maxlen = 30\n",
        "batch_size = 32"
      ]
    },
    {
      "cell_type": "markdown",
      "id": "juvenile-defensive",
      "metadata": {
        "id": "juvenile-defensive"
      },
      "source": [
        "Load the data"
      ]
    },
    {
      "cell_type": "code",
      "execution_count": 3,
      "id": "familiar-escape",
      "metadata": {
        "id": "familiar-escape",
        "colab": {
          "base_uri": "https://localhost:8080/"
        },
        "outputId": "54f30842-4f3b-4844-e375-54cc89245033"
      },
      "outputs": [
        {
          "output_type": "stream",
          "name": "stdout",
          "text": [
            "Downloading data from https://storage.googleapis.com/tensorflow/tf-keras-datasets/imdb.npz\n",
            "17464789/17464789 [==============================] - 0s 0us/step\n",
            "25000 train sequences\n",
            "25000 test sequences\n"
          ]
        }
      ],
      "source": [
        "\n",
        "(x_train, y_train), (x_test, y_test) = imdb.load_data(num_words=max_features)\n",
        "print(len(x_train), 'train sequences')\n",
        "print(len(x_test), 'test sequences')"
      ]
    },
    {
      "cell_type": "markdown",
      "id": "hairy-volleyball",
      "metadata": {
        "id": "hairy-volleyball"
      },
      "source": [
        " Truncates the sequences so that they are of the maximum length"
      ]
    },
    {
      "cell_type": "code",
      "execution_count": 4,
      "id": "distant-praise",
      "metadata": {
        "id": "distant-praise",
        "colab": {
          "base_uri": "https://localhost:8080/"
        },
        "outputId": "46ada365-16b5-4be5-8d4e-300008a6f4db"
      },
      "outputs": [
        {
          "output_type": "stream",
          "name": "stdout",
          "text": [
            "x_train shape: (25000, 30)\n",
            "x_test shape: (25000, 30)\n"
          ]
        }
      ],
      "source": [
        "x_train = sequence.pad_sequences(x_train, maxlen=maxlen)\n",
        "x_test = sequence.pad_sequences(x_test, maxlen=maxlen)\n",
        "print('x_train shape:', x_train.shape)\n",
        "print('x_test shape:', x_test.shape)"
      ]
    },
    {
      "cell_type": "markdown",
      "source": [
        "Check the example of sequence"
      ],
      "metadata": {
        "id": "_BW4NFmdM7DT"
      },
      "id": "_BW4NFmdM7DT"
    },
    {
      "cell_type": "code",
      "execution_count": 5,
      "id": "surprising-bacteria",
      "metadata": {
        "id": "surprising-bacteria",
        "colab": {
          "base_uri": "https://localhost:8080/"
        },
        "outputId": "155cde1a-c889-4b56-d67c-433ad5e2efad"
      },
      "outputs": [
        {
          "output_type": "execute_result",
          "data": {
            "text/plain": [
              "array([  219,   141,    35,   221,   956,    54,    13,    16,    11,\n",
              "        2714,    61,   322,   423,    12,    38,    76,    59,  1803,\n",
              "          72,     8, 10508,    23,     5,   967,    12,    38,    85,\n",
              "          62,   358,    99], dtype=int32)"
            ]
          },
          "metadata": {},
          "execution_count": 5
        }
      ],
      "source": [
        "x_train[123,:]"
      ]
    },
    {
      "cell_type": "markdown",
      "id": "quantitative-breath",
      "metadata": {
        "id": "quantitative-breath"
      },
      "source": [
        "Build a recurrent neural network"
      ]
    },
    {
      "cell_type": "code",
      "execution_count": 6,
      "id": "closed-writer",
      "metadata": {
        "id": "closed-writer"
      },
      "outputs": [],
      "source": [
        "rnn_hidden_dim = 5\n",
        "word_embedding_dim = 50\n",
        "model_rnn = Sequential()\n",
        "model_rnn.add(Embedding(max_features, word_embedding_dim))  #This layer takes each integer in the sequence and embeds it in a 50-dimensional vector\n",
        "model_rnn.add(SimpleRNN(rnn_hidden_dim,\n",
        "                    kernel_initializer=initializers.RandomNormal(stddev=0.001),\n",
        "                    recurrent_initializer=initializers.Identity(gain=1.0),\n",
        "                    activation='relu',\n",
        "                    input_shape=x_train.shape[1:]))\n",
        "\n",
        "model_rnn.add(Dense(1, activation='sigmoid'))"
      ]
    },
    {
      "cell_type": "code",
      "execution_count": 7,
      "id": "developmental-foster",
      "metadata": {
        "id": "developmental-foster"
      },
      "outputs": [],
      "source": [
        "rmsprop = keras.optimizers.RMSprop(learning_rate = .0001)\n",
        "\n",
        "model_rnn.compile(loss='binary_crossentropy',\n",
        "              optimizer=rmsprop,\n",
        "              metrics=['accuracy'])"
      ]
    },
    {
      "cell_type": "code",
      "execution_count": 8,
      "id": "joined-athletics",
      "metadata": {
        "id": "joined-athletics",
        "colab": {
          "base_uri": "https://localhost:8080/"
        },
        "outputId": "4efd9633-37ff-4269-8165-8f879f225019"
      },
      "outputs": [
        {
          "output_type": "stream",
          "name": "stdout",
          "text": [
            "Epoch 1/10\n",
            "782/782 [==============================] - 14s 16ms/step - loss: 0.6884 - accuracy: 0.5289 - val_loss: 0.6750 - val_accuracy: 0.6061\n",
            "Epoch 2/10\n",
            "782/782 [==============================] - 14s 17ms/step - loss: 0.6472 - accuracy: 0.6549 - val_loss: 0.6260 - val_accuracy: 0.6828\n",
            "Epoch 3/10\n",
            "782/782 [==============================] - 11s 14ms/step - loss: 0.5941 - accuracy: 0.7170 - val_loss: 0.5847 - val_accuracy: 0.7116\n",
            "Epoch 4/10\n",
            "782/782 [==============================] - 11s 14ms/step - loss: 0.5382 - accuracy: 0.7460 - val_loss: 0.5433 - val_accuracy: 0.7289\n",
            "Epoch 5/10\n",
            "782/782 [==============================] - 11s 14ms/step - loss: 0.4915 - accuracy: 0.7713 - val_loss: 0.5160 - val_accuracy: 0.7449\n",
            "Epoch 6/10\n",
            "782/782 [==============================] - 11s 14ms/step - loss: 0.4591 - accuracy: 0.7881 - val_loss: 0.4985 - val_accuracy: 0.7534\n",
            "Epoch 7/10\n",
            "782/782 [==============================] - 11s 14ms/step - loss: 0.4341 - accuracy: 0.8008 - val_loss: 0.4850 - val_accuracy: 0.7623\n",
            "Epoch 8/10\n",
            "782/782 [==============================] - 11s 14ms/step - loss: 0.4151 - accuracy: 0.8121 - val_loss: 0.4743 - val_accuracy: 0.7695\n",
            "Epoch 9/10\n",
            "782/782 [==============================] - 13s 16ms/step - loss: 0.3992 - accuracy: 0.8215 - val_loss: 0.4697 - val_accuracy: 0.7721\n",
            "Epoch 10/10\n",
            "782/782 [==============================] - 11s 14ms/step - loss: 0.3871 - accuracy: 0.8284 - val_loss: 0.4604 - val_accuracy: 0.7799\n"
          ]
        },
        {
          "output_type": "execute_result",
          "data": {
            "text/plain": [
              "<keras.src.callbacks.History at 0x78c9c950acb0>"
            ]
          },
          "metadata": {},
          "execution_count": 8
        }
      ],
      "source": [
        "model_rnn.fit(x_train, y_train,\n",
        "          batch_size=batch_size,\n",
        "          epochs=10,\n",
        "          validation_data=(x_test, y_test))"
      ]
    },
    {
      "cell_type": "markdown",
      "id": "freelance-proposal",
      "metadata": {
        "id": "freelance-proposal"
      },
      "source": [
        "Evaluate the model using the test set."
      ]
    },
    {
      "cell_type": "code",
      "execution_count": 9,
      "id": "early-connecticut",
      "metadata": {
        "id": "early-connecticut",
        "colab": {
          "base_uri": "https://localhost:8080/"
        },
        "outputId": "9b2cce8e-729e-4e8d-9b16-ddd0fc51a1c3"
      },
      "outputs": [
        {
          "output_type": "stream",
          "name": "stdout",
          "text": [
            "782/782 [==============================] - 2s 3ms/step - loss: 0.4604 - accuracy: 0.7799\n",
            "Test score: 0.46035170555114746\n",
            "Test accuracy: 0.7799199819564819\n"
          ]
        }
      ],
      "source": [
        "score, acc = model_rnn.evaluate(x_test, y_test,\n",
        "                            batch_size=batch_size)\n",
        "print('Test score:', score)\n",
        "print('Test accuracy:', acc)"
      ]
    },
    {
      "cell_type": "markdown",
      "id": "miniature-generic",
      "metadata": {
        "id": "miniature-generic"
      },
      "source": [
        "**Interpret the result**"
      ]
    },
    {
      "cell_type": "markdown",
      "id": "marine-cotton",
      "metadata": {
        "id": "marine-cotton"
      },
      "source": [
        "**Answer:** The RNN model that had been used in this task achieved a test accuracy score of 78.32%. Test accuracy describe on the concept of the model or correctly calssifying data in the test portion of the dataset. While the model achieved a test score of 45 which particulary describe the error metric in which a lower value means a better perfromance of the model. Throuh these, it is said that the model perfromed good in processing and classifying and processing data."
      ]
    },
    {
      "cell_type": "markdown",
      "id": "planned-detection",
      "metadata": {
        "id": "planned-detection"
      },
      "source": [
        "# Supplementary Activity"
      ]
    },
    {
      "cell_type": "markdown",
      "id": "industrial-frequency",
      "metadata": {
        "id": "industrial-frequency"
      },
      "source": [
        "- Prepare the data to use sequences of length 80 rather than length 30.  Did it improve the performance?\n",
        "- Try different values of the \"max_features\".  Can you improve the performance?\n",
        "- Try smaller and larger sizes of the RNN hidden dimension.  How does it affect the model performance?  How does it affect the run time?"
      ]
    },
    {
      "cell_type": "code",
      "execution_count": 10,
      "id": "important-delight",
      "metadata": {
        "id": "important-delight"
      },
      "outputs": [],
      "source": [
        "max_features = 20000\n",
        "maxlen = 80 #instead of length 30, it was changed to 80\n",
        "batch_size = 32"
      ]
    },
    {
      "cell_type": "code",
      "source": [
        "(x_train, y_train), (x_test, y_test) = imdb.load_data(num_words=max_features)\n",
        "print(len(x_train), 'train sequences')\n",
        "print(len(x_test), 'test sequences')"
      ],
      "metadata": {
        "id": "cKEmmP-5ymip",
        "colab": {
          "base_uri": "https://localhost:8080/"
        },
        "outputId": "2dd733d8-97f7-4d80-8abd-12d42ebcc7d6"
      },
      "id": "cKEmmP-5ymip",
      "execution_count": 11,
      "outputs": [
        {
          "output_type": "stream",
          "name": "stdout",
          "text": [
            "25000 train sequences\n",
            "25000 test sequences\n"
          ]
        }
      ]
    },
    {
      "cell_type": "code",
      "source": [
        "x_train = sequence.pad_sequences(x_train, maxlen=maxlen)\n",
        "x_test = sequence.pad_sequences(x_test, maxlen=maxlen)\n",
        "print('x_train shape:', x_train.shape)\n",
        "print('x_test shape:', x_test.shape)"
      ],
      "metadata": {
        "colab": {
          "base_uri": "https://localhost:8080/"
        },
        "id": "x-6ULUhjOmWH",
        "outputId": "16bd929a-5cfa-4863-a91d-61c7d00f6da4"
      },
      "id": "x-6ULUhjOmWH",
      "execution_count": 12,
      "outputs": [
        {
          "output_type": "stream",
          "name": "stdout",
          "text": [
            "x_train shape: (25000, 80)\n",
            "x_test shape: (25000, 80)\n"
          ]
        }
      ]
    },
    {
      "cell_type": "code",
      "source": [
        "x_train[123,:]"
      ],
      "metadata": {
        "colab": {
          "base_uri": "https://localhost:8080/"
        },
        "id": "QR3YfvI4ORc7",
        "outputId": "080821ef-1715-4c28-fb5b-00faf1397fad"
      },
      "id": "QR3YfvI4ORc7",
      "execution_count": 13,
      "outputs": [
        {
          "output_type": "execute_result",
          "data": {
            "text/plain": [
              "array([    0,     0,     0,     0,     0,     0,     0,     0,     0,\n",
              "           0,     0,     0,     0,     0,     0,     0,     0,     0,\n",
              "           0,     0,     0,     0,     0,     0,     1,   307,     5,\n",
              "        1301,    20,  1026,  2511,    87,  2775,    52,   116,     5,\n",
              "          31,     7,     4,    91,  1220,   102,    13,    28,   110,\n",
              "          11,     6,   137,    13,   115,   219,   141,    35,   221,\n",
              "         956,    54,    13,    16,    11,  2714,    61,   322,   423,\n",
              "          12,    38,    76,    59,  1803,    72,     8, 10508,    23,\n",
              "           5,   967,    12,    38,    85,    62,   358,    99],\n",
              "      dtype=int32)"
            ]
          },
          "metadata": {},
          "execution_count": 13
        }
      ]
    },
    {
      "cell_type": "code",
      "source": [
        "rnn_hidden_dim = 5\n",
        "word_embedding_dim = 50\n",
        "model_rnn = Sequential()\n",
        "model_rnn.add(Embedding(max_features, word_embedding_dim))  #This layer takes each integer in the sequence and embeds it in a 50-dimensional vector\n",
        "model_rnn.add(SimpleRNN(rnn_hidden_dim,\n",
        "                    kernel_initializer=initializers.RandomNormal(stddev=0.001),\n",
        "                    recurrent_initializer=initializers.Identity(gain=1.0),\n",
        "                    activation='relu',\n",
        "                    input_shape=x_train.shape[1:]))\n",
        "\n",
        "model_rnn.add(Dense(1, activation='sigmoid'))"
      ],
      "metadata": {
        "id": "fy3f2VeK235m"
      },
      "id": "fy3f2VeK235m",
      "execution_count": 14,
      "outputs": []
    },
    {
      "cell_type": "code",
      "source": [
        "rmsprop = keras.optimizers.RMSprop(learning_rate = .0001)\n",
        "\n",
        "model_rnn.compile(loss='binary_crossentropy',\n",
        "              optimizer=rmsprop,\n",
        "              metrics=['accuracy'])"
      ],
      "metadata": {
        "id": "tkPoOuyB3NzA"
      },
      "id": "tkPoOuyB3NzA",
      "execution_count": 15,
      "outputs": []
    },
    {
      "cell_type": "code",
      "source": [
        "model_rnn.fit(x_train, y_train,\n",
        "          batch_size=batch_size,\n",
        "          epochs=10,\n",
        "          validation_data=(x_test, y_test))"
      ],
      "metadata": {
        "colab": {
          "base_uri": "https://localhost:8080/"
        },
        "id": "z1kZ1ojHOxXe",
        "outputId": "b56b4b64-52a0-4d9c-e065-da46a8d66750"
      },
      "id": "z1kZ1ojHOxXe",
      "execution_count": 16,
      "outputs": [
        {
          "output_type": "stream",
          "name": "stdout",
          "text": [
            "Epoch 1/10\n",
            "782/782 [==============================] - 22s 27ms/step - loss: 0.6372 - accuracy: 0.6269 - val_loss: 0.5596 - val_accuracy: 0.7136\n",
            "Epoch 2/10\n",
            "782/782 [==============================] - 19s 25ms/step - loss: 0.4891 - accuracy: 0.7662 - val_loss: 0.4795 - val_accuracy: 0.7682\n",
            "Epoch 3/10\n",
            "782/782 [==============================] - 28s 35ms/step - loss: 0.4129 - accuracy: 0.8130 - val_loss: 0.4397 - val_accuracy: 0.7983\n",
            "Epoch 4/10\n",
            "782/782 [==============================] - 21s 27ms/step - loss: 0.3664 - accuracy: 0.8384 - val_loss: 0.4095 - val_accuracy: 0.8136\n",
            "Epoch 5/10\n",
            "782/782 [==============================] - 19s 25ms/step - loss: 0.3354 - accuracy: 0.8564 - val_loss: 0.4025 - val_accuracy: 0.8202\n",
            "Epoch 6/10\n",
            "782/782 [==============================] - 21s 27ms/step - loss: 0.3137 - accuracy: 0.8693 - val_loss: 0.4082 - val_accuracy: 0.8154\n",
            "Epoch 7/10\n",
            "782/782 [==============================] - 20s 26ms/step - loss: 0.2957 - accuracy: 0.8766 - val_loss: 0.3839 - val_accuracy: 0.8280\n",
            "Epoch 8/10\n",
            "782/782 [==============================] - 21s 27ms/step - loss: 0.2822 - accuracy: 0.8840 - val_loss: 0.3883 - val_accuracy: 0.8280\n",
            "Epoch 9/10\n",
            "782/782 [==============================] - 19s 25ms/step - loss: 0.2703 - accuracy: 0.8898 - val_loss: 0.3872 - val_accuracy: 0.8273\n",
            "Epoch 10/10\n",
            "782/782 [==============================] - 22s 29ms/step - loss: 0.2603 - accuracy: 0.8954 - val_loss: 0.3748 - val_accuracy: 0.8340\n"
          ]
        },
        {
          "output_type": "execute_result",
          "data": {
            "text/plain": [
              "<keras.src.callbacks.History at 0x78c9ca02eec0>"
            ]
          },
          "metadata": {},
          "execution_count": 16
        }
      ]
    },
    {
      "cell_type": "code",
      "source": [
        "score, acc = model_rnn.evaluate(x_test, y_test,\n",
        "                            batch_size=batch_size)\n",
        "print('Test score:', score)\n",
        "print('Test accuracy:', acc)"
      ],
      "metadata": {
        "id": "juWWllXe35vn",
        "colab": {
          "base_uri": "https://localhost:8080/"
        },
        "outputId": "5a45fcca-6e88-4d59-d200-5d103c686e02"
      },
      "id": "juWWllXe35vn",
      "execution_count": 17,
      "outputs": [
        {
          "output_type": "stream",
          "name": "stdout",
          "text": [
            "782/782 [==============================] - 4s 5ms/step - loss: 0.3748 - accuracy: 0.8340\n",
            "Test score: 0.37481704354286194\n",
            "Test accuracy: 0.8339599967002869\n"
          ]
        }
      ]
    },
    {
      "cell_type": "markdown",
      "source": [
        "**Analysis:** When the maxlen (maximum length of the sequence) was changed, the model performed better compared to the previous one which gives a test accuracy of 83.10% and a test score of 38 which are a good indication that the model performed well in terms of processing and classifying data. Increasing maxlen made the model performance better since increasing the maximum lenght would reduce the information loss and preserve the context of the words in the dataset. With these, model's performance would be possibly be enhances and is better compared to the previous one."
      ],
      "metadata": {
        "id": "De3Rbf8niB0J"
      },
      "id": "De3Rbf8niB0J"
    },
    {
      "cell_type": "markdown",
      "source": [
        "---------------------------------"
      ],
      "metadata": {
        "id": "Hd_J5tTDQoin"
      },
      "id": "Hd_J5tTDQoin"
    },
    {
      "cell_type": "code",
      "source": [
        "max_features = 23000 #increasing the max features\n",
        "maxlen = 150 #instead of length 30, it was changed to 150\n",
        "batch_size = 32"
      ],
      "metadata": {
        "id": "LXAfnoBNQqLk"
      },
      "id": "LXAfnoBNQqLk",
      "execution_count": 18,
      "outputs": []
    },
    {
      "cell_type": "code",
      "source": [
        "(x_train, y_train), (x_test, y_test) = imdb.load_data(num_words=max_features)\n",
        "print(len(x_train), 'train sequences')\n",
        "print(len(x_test), 'test sequences')"
      ],
      "metadata": {
        "colab": {
          "base_uri": "https://localhost:8080/"
        },
        "id": "qfbqIDOoQtTw",
        "outputId": "e59a502d-7d3f-45c8-a695-e594c51a96d5"
      },
      "id": "qfbqIDOoQtTw",
      "execution_count": 19,
      "outputs": [
        {
          "output_type": "stream",
          "name": "stdout",
          "text": [
            "25000 train sequences\n",
            "25000 test sequences\n"
          ]
        }
      ]
    },
    {
      "cell_type": "code",
      "source": [
        "x_train = sequence.pad_sequences(x_train, maxlen=maxlen)\n",
        "x_test = sequence.pad_sequences(x_test, maxlen=maxlen)\n",
        "print('x_train shape:', x_train.shape)\n",
        "print('x_test shape:', x_test.shape)"
      ],
      "metadata": {
        "colab": {
          "base_uri": "https://localhost:8080/"
        },
        "id": "g551a4ztQuxq",
        "outputId": "330ebf82-3742-40a7-c0ec-4c4f6d49b33a"
      },
      "id": "g551a4ztQuxq",
      "execution_count": 20,
      "outputs": [
        {
          "output_type": "stream",
          "name": "stdout",
          "text": [
            "x_train shape: (25000, 150)\n",
            "x_test shape: (25000, 150)\n"
          ]
        }
      ]
    },
    {
      "cell_type": "code",
      "source": [
        "x_train[123,:]"
      ],
      "metadata": {
        "colab": {
          "base_uri": "https://localhost:8080/"
        },
        "id": "4dKMHSSyQywv",
        "outputId": "e1bc0785-e933-452d-8b41-6418882eb46c"
      },
      "id": "4dKMHSSyQywv",
      "execution_count": 21,
      "outputs": [
        {
          "output_type": "execute_result",
          "data": {
            "text/plain": [
              "array([    0,     0,     0,     0,     0,     0,     0,     0,     0,\n",
              "           0,     0,     0,     0,     0,     0,     0,     0,     0,\n",
              "           0,     0,     0,     0,     0,     0,     0,     0,     0,\n",
              "           0,     0,     0,     0,     0,     0,     0,     0,     0,\n",
              "           0,     0,     0,     0,     0,     0,     0,     0,     0,\n",
              "           0,     0,     0,     0,     0,     0,     0,     0,     0,\n",
              "           0,     0,     0,     0,     0,     0,     0,     0,     0,\n",
              "           0,     0,     0,     0,     0,     0,     0,     0,     0,\n",
              "           0,     0,     0,     0,     0,     0,     0,     0,     0,\n",
              "           0,     0,     0,     0,     0,     0,     0,     0,     0,\n",
              "           0,     0,     0,     0,     1,   307,     5,  1301,    20,\n",
              "        1026,  2511,    87,  2775,    52,   116,     5,    31,     7,\n",
              "           4,    91,  1220,   102,    13,    28,   110,    11,     6,\n",
              "         137,    13,   115,   219,   141,    35,   221,   956,    54,\n",
              "          13,    16,    11,  2714,    61,   322,   423,    12,    38,\n",
              "          76,    59,  1803,    72,     8, 10508,    23,     5,   967,\n",
              "          12,    38,    85,    62,   358,    99], dtype=int32)"
            ]
          },
          "metadata": {},
          "execution_count": 21
        }
      ]
    },
    {
      "cell_type": "code",
      "source": [
        "rnn_hidden_dim = 5\n",
        "word_embedding_dim = 50\n",
        "model_rnn = Sequential()\n",
        "model_rnn.add(Embedding(max_features, word_embedding_dim))  #This layer takes each integer in the sequence and embeds it in a 50-dimensional vector\n",
        "model_rnn.add(SimpleRNN(rnn_hidden_dim,\n",
        "                    kernel_initializer=initializers.RandomNormal(stddev=0.001),\n",
        "                    recurrent_initializer=initializers.Identity(gain=1.0),\n",
        "                    activation='relu',\n",
        "                    input_shape=x_train.shape[1:]))\n",
        "\n",
        "model_rnn.add(Dense(1, activation='sigmoid'))"
      ],
      "metadata": {
        "id": "NIrC4tvnQ0P_"
      },
      "id": "NIrC4tvnQ0P_",
      "execution_count": 22,
      "outputs": []
    },
    {
      "cell_type": "code",
      "source": [
        "rmsprop = keras.optimizers.RMSprop(learning_rate = .0001)\n",
        "\n",
        "model_rnn.compile(loss='binary_crossentropy',\n",
        "              optimizer=rmsprop,\n",
        "              metrics=['accuracy'])"
      ],
      "metadata": {
        "id": "EOYsXf3sQ1eV"
      },
      "id": "EOYsXf3sQ1eV",
      "execution_count": 23,
      "outputs": []
    },
    {
      "cell_type": "code",
      "source": [
        "model_rnn.fit(x_train, y_train,\n",
        "          batch_size=batch_size,\n",
        "          epochs=20,\n",
        "          validation_data=(x_test, y_test))"
      ],
      "metadata": {
        "colab": {
          "base_uri": "https://localhost:8080/"
        },
        "id": "rmqCYm6NQ3Hs",
        "outputId": "3933ef83-9e36-47fa-c8a2-1a98ea9c1c66"
      },
      "id": "rmqCYm6NQ3Hs",
      "execution_count": 24,
      "outputs": [
        {
          "output_type": "stream",
          "name": "stdout",
          "text": [
            "Epoch 1/20\n",
            "782/782 [==============================] - 34s 42ms/step - loss: 0.6065 - accuracy: 0.6516 - val_loss: 0.5176 - val_accuracy: 0.7634\n",
            "Epoch 2/20\n",
            "782/782 [==============================] - 34s 43ms/step - loss: 0.4238 - accuracy: 0.8182 - val_loss: 0.4308 - val_accuracy: 0.8046\n",
            "Epoch 3/20\n",
            "782/782 [==============================] - 37s 48ms/step - loss: 0.3385 - accuracy: 0.8632 - val_loss: 0.3585 - val_accuracy: 0.8483\n",
            "Epoch 4/20\n",
            "782/782 [==============================] - 33s 42ms/step - loss: 0.2904 - accuracy: 0.8873 - val_loss: 0.3672 - val_accuracy: 0.8440\n",
            "Epoch 5/20\n",
            "782/782 [==============================] - 40s 52ms/step - loss: 0.2584 - accuracy: 0.9000 - val_loss: 0.3325 - val_accuracy: 0.8602\n",
            "Epoch 6/20\n",
            "782/782 [==============================] - 34s 43ms/step - loss: 0.2351 - accuracy: 0.9092 - val_loss: 0.3244 - val_accuracy: 0.8618\n",
            "Epoch 7/20\n",
            "782/782 [==============================] - 33s 42ms/step - loss: 0.2187 - accuracy: 0.9169 - val_loss: 0.3274 - val_accuracy: 0.8616\n",
            "Epoch 8/20\n",
            "782/782 [==============================] - 34s 43ms/step - loss: 0.2043 - accuracy: 0.9234 - val_loss: 0.3288 - val_accuracy: 0.8604\n",
            "Epoch 9/20\n",
            "782/782 [==============================] - 33s 42ms/step - loss: 0.1936 - accuracy: 0.9277 - val_loss: 0.3337 - val_accuracy: 0.8602\n",
            "Epoch 10/20\n",
            "782/782 [==============================] - 34s 43ms/step - loss: 0.1838 - accuracy: 0.9315 - val_loss: 0.3354 - val_accuracy: 0.8610\n",
            "Epoch 11/20\n",
            "782/782 [==============================] - 33s 42ms/step - loss: 0.1754 - accuracy: 0.9344 - val_loss: 0.3644 - val_accuracy: 0.8533\n",
            "Epoch 12/20\n",
            "782/782 [==============================] - 35s 45ms/step - loss: 0.1676 - accuracy: 0.9379 - val_loss: 0.3676 - val_accuracy: 0.8548\n",
            "Epoch 13/20\n",
            "782/782 [==============================] - 38s 48ms/step - loss: 0.1599 - accuracy: 0.9413 - val_loss: 0.3512 - val_accuracy: 0.8601\n",
            "Epoch 14/20\n",
            "782/782 [==============================] - 33s 42ms/step - loss: 0.1537 - accuracy: 0.9439 - val_loss: 0.3452 - val_accuracy: 0.8623\n",
            "Epoch 15/20\n",
            "782/782 [==============================] - 34s 43ms/step - loss: 0.1478 - accuracy: 0.9474 - val_loss: 0.3519 - val_accuracy: 0.8600\n",
            "Epoch 16/20\n",
            "782/782 [==============================] - 33s 42ms/step - loss: 0.1417 - accuracy: 0.9494 - val_loss: 0.3920 - val_accuracy: 0.8483\n",
            "Epoch 17/20\n",
            "782/782 [==============================] - 37s 48ms/step - loss: 0.1370 - accuracy: 0.9502 - val_loss: 0.3828 - val_accuracy: 0.8561\n",
            "Epoch 18/20\n",
            "782/782 [==============================] - 33s 42ms/step - loss: 0.1320 - accuracy: 0.9535 - val_loss: 0.3862 - val_accuracy: 0.8499\n",
            "Epoch 19/20\n",
            "782/782 [==============================] - 35s 44ms/step - loss: 0.1280 - accuracy: 0.9545 - val_loss: 0.3709 - val_accuracy: 0.8587\n",
            "Epoch 20/20\n",
            "782/782 [==============================] - 37s 48ms/step - loss: 0.1231 - accuracy: 0.9572 - val_loss: 0.4107 - val_accuracy: 0.8473\n"
          ]
        },
        {
          "output_type": "execute_result",
          "data": {
            "text/plain": [
              "<keras.src.callbacks.History at 0x78c9b3ac9db0>"
            ]
          },
          "metadata": {},
          "execution_count": 24
        }
      ]
    },
    {
      "cell_type": "code",
      "source": [
        "score, acc = model_rnn.evaluate(x_test, y_test,\n",
        "                            batch_size=batch_size)\n",
        "print('Test score:', score)\n",
        "print('Test accuracy:', acc)"
      ],
      "metadata": {
        "colab": {
          "base_uri": "https://localhost:8080/"
        },
        "id": "tzh2Shq6Q41G",
        "outputId": "b5a1c6b6-2582-4950-83d2-dbf7f613749f"
      },
      "id": "tzh2Shq6Q41G",
      "execution_count": 25,
      "outputs": [
        {
          "output_type": "stream",
          "name": "stdout",
          "text": [
            "782/782 [==============================] - 6s 8ms/step - loss: 0.4107 - accuracy: 0.8473\n",
            "Test score: 0.4107486605644226\n",
            "Test accuracy: 0.8472800254821777\n"
          ]
        }
      ]
    },
    {
      "cell_type": "markdown",
      "source": [
        "**Analysis:** When the max_features were increased, the model's performance were also enhanced and displayed better results compared to the previous ones. It is because max_features, which is the maximum number of words to keep based on their frequency, will definitely imporve the model's performance through reducing the information loss, better vocabulary coverage (means that unique words were further added as max_feature will increase), it improves generalization. With these, it is evidently will enhance the RNN model's perfromance in terms of processing and classifying data."
      ],
      "metadata": {
        "id": "U73f907diFYp"
      },
      "id": "U73f907diFYp"
    },
    {
      "cell_type": "markdown",
      "source": [
        "------------------------------------------------------"
      ],
      "metadata": {
        "id": "e6OGX0J8bM-D"
      },
      "id": "e6OGX0J8bM-D"
    },
    {
      "cell_type": "code",
      "source": [
        "max_features = 23000\n",
        "maxlen = 190 #instead of length 30, it was changed to 80\n",
        "batch_size = 32"
      ],
      "metadata": {
        "id": "QuKPCTV1bObF"
      },
      "id": "QuKPCTV1bObF",
      "execution_count": 34,
      "outputs": []
    },
    {
      "cell_type": "code",
      "source": [
        "(x_train, y_train), (x_test, y_test) = imdb.load_data(num_words=max_features)\n",
        "print(len(x_train), 'train sequences')\n",
        "print(len(x_test), 'test sequences')"
      ],
      "metadata": {
        "colab": {
          "base_uri": "https://localhost:8080/"
        },
        "id": "fCdDmk4JbQY0",
        "outputId": "5943b05d-43fc-41d7-bec5-39165face67e"
      },
      "id": "fCdDmk4JbQY0",
      "execution_count": 35,
      "outputs": [
        {
          "output_type": "stream",
          "name": "stdout",
          "text": [
            "25000 train sequences\n",
            "25000 test sequences\n"
          ]
        }
      ]
    },
    {
      "cell_type": "code",
      "source": [
        "x_train = sequence.pad_sequences(x_train, maxlen=maxlen)\n",
        "x_test = sequence.pad_sequences(x_test, maxlen=maxlen)\n",
        "print('x_train shape:', x_train.shape)\n",
        "print('x_test shape:', x_test.shape)"
      ],
      "metadata": {
        "colab": {
          "base_uri": "https://localhost:8080/"
        },
        "id": "N_GWPx1Qbj9y",
        "outputId": "6f1639c7-7fae-4396-af27-8f139488b9e9"
      },
      "id": "N_GWPx1Qbj9y",
      "execution_count": 36,
      "outputs": [
        {
          "output_type": "stream",
          "name": "stdout",
          "text": [
            "x_train shape: (25000, 190)\n",
            "x_test shape: (25000, 190)\n"
          ]
        }
      ]
    },
    {
      "cell_type": "code",
      "source": [
        "x_train[123,:]"
      ],
      "metadata": {
        "colab": {
          "base_uri": "https://localhost:8080/"
        },
        "id": "HVae3nv2bkWi",
        "outputId": "9184533d-af05-40ac-8a33-5423ef531ec3"
      },
      "id": "HVae3nv2bkWi",
      "execution_count": 37,
      "outputs": [
        {
          "output_type": "execute_result",
          "data": {
            "text/plain": [
              "array([    0,     0,     0,     0,     0,     0,     0,     0,     0,\n",
              "           0,     0,     0,     0,     0,     0,     0,     0,     0,\n",
              "           0,     0,     0,     0,     0,     0,     0,     0,     0,\n",
              "           0,     0,     0,     0,     0,     0,     0,     0,     0,\n",
              "           0,     0,     0,     0,     0,     0,     0,     0,     0,\n",
              "           0,     0,     0,     0,     0,     0,     0,     0,     0,\n",
              "           0,     0,     0,     0,     0,     0,     0,     0,     0,\n",
              "           0,     0,     0,     0,     0,     0,     0,     0,     0,\n",
              "           0,     0,     0,     0,     0,     0,     0,     0,     0,\n",
              "           0,     0,     0,     0,     0,     0,     0,     0,     0,\n",
              "           0,     0,     0,     0,     0,     0,     0,     0,     0,\n",
              "           0,     0,     0,     0,     0,     0,     0,     0,     0,\n",
              "           0,     0,     0,     0,     0,     0,     0,     0,     0,\n",
              "           0,     0,     0,     0,     0,     0,     0,     0,     0,\n",
              "           0,     0,     0,     0,     0,     0,     0,     0,     1,\n",
              "         307,     5,  1301,    20,  1026,  2511,    87,  2775,    52,\n",
              "         116,     5,    31,     7,     4,    91,  1220,   102,    13,\n",
              "          28,   110,    11,     6,   137,    13,   115,   219,   141,\n",
              "          35,   221,   956,    54,    13,    16,    11,  2714,    61,\n",
              "         322,   423,    12,    38,    76,    59,  1803,    72,     8,\n",
              "       10508,    23,     5,   967,    12,    38,    85,    62,   358,\n",
              "          99], dtype=int32)"
            ]
          },
          "metadata": {},
          "execution_count": 37
        }
      ]
    },
    {
      "cell_type": "code",
      "source": [
        "rnn_hidden_dim = 100\n",
        "word_embedding_dim = 50\n",
        "model_rnn = Sequential()\n",
        "model_rnn.add(Embedding(max_features, word_embedding_dim))  #This layer takes each integer in the sequence and embeds it in a 50-dimensional vector\n",
        "model_rnn.add(SimpleRNN(rnn_hidden_dim,\n",
        "                    kernel_initializer=initializers.RandomNormal(stddev=0.001),\n",
        "                    recurrent_initializer=initializers.Identity(gain=1.0),\n",
        "                    activation='relu',\n",
        "                    input_shape=x_train.shape[1:]))\n",
        "\n",
        "model_rnn.add(Dense(1, activation='sigmoid'))"
      ],
      "metadata": {
        "id": "059s7T3cboMU"
      },
      "id": "059s7T3cboMU",
      "execution_count": 38,
      "outputs": []
    },
    {
      "cell_type": "code",
      "source": [
        "rmsprop = keras.optimizers.RMSprop(learning_rate = .0001)\n",
        "\n",
        "model_rnn.compile(loss='binary_crossentropy',\n",
        "              optimizer=rmsprop,\n",
        "              metrics=['accuracy'])"
      ],
      "metadata": {
        "id": "x4RgoHD3bool"
      },
      "id": "x4RgoHD3bool",
      "execution_count": 39,
      "outputs": []
    },
    {
      "cell_type": "code",
      "source": [
        "model_rnn.fit(x_train, y_train,\n",
        "          batch_size=batch_size,\n",
        "          epochs=8,\n",
        "          validation_data=(x_test, y_test))"
      ],
      "metadata": {
        "colab": {
          "base_uri": "https://localhost:8080/"
        },
        "id": "0EVYr2HNbrls",
        "outputId": "92c51e15-5d0d-4483-adf1-07bec055d220"
      },
      "id": "0EVYr2HNbrls",
      "execution_count": 40,
      "outputs": [
        {
          "output_type": "stream",
          "name": "stdout",
          "text": [
            "Epoch 1/8\n",
            "782/782 [==============================] - 59s 75ms/step - loss: 0.5917 - accuracy: 0.6708 - val_loss: 0.5398 - val_accuracy: 0.7494\n",
            "Epoch 2/8\n",
            "782/782 [==============================] - 70s 90ms/step - loss: 0.3820 - accuracy: 0.8409 - val_loss: 0.3741 - val_accuracy: 0.8472\n",
            "Epoch 3/8\n",
            "782/782 [==============================] - 59s 76ms/step - loss: 0.3012 - accuracy: 0.8812 - val_loss: 0.4265 - val_accuracy: 0.8171\n",
            "Epoch 4/8\n",
            "782/782 [==============================] - 61s 78ms/step - loss: 0.2616 - accuracy: 0.8986 - val_loss: 0.3063 - val_accuracy: 0.8710\n",
            "Epoch 5/8\n",
            "782/782 [==============================] - 59s 76ms/step - loss: 0.2325 - accuracy: 0.9139 - val_loss: 0.3521 - val_accuracy: 0.8620\n",
            "Epoch 6/8\n",
            "782/782 [==============================] - 60s 77ms/step - loss: 0.2125 - accuracy: 0.9188 - val_loss: 0.4622 - val_accuracy: 0.8453\n",
            "Epoch 7/8\n",
            "782/782 [==============================] - 58s 75ms/step - loss: 0.1985 - accuracy: 0.9261 - val_loss: 0.4300 - val_accuracy: 0.8580\n",
            "Epoch 8/8\n",
            "782/782 [==============================] - 69s 88ms/step - loss: 0.1849 - accuracy: 0.9320 - val_loss: 0.4070 - val_accuracy: 0.8402\n"
          ]
        },
        {
          "output_type": "execute_result",
          "data": {
            "text/plain": [
              "<keras.src.callbacks.History at 0x78c9c06138b0>"
            ]
          },
          "metadata": {},
          "execution_count": 40
        }
      ]
    },
    {
      "cell_type": "code",
      "source": [
        "score, acc = model_rnn.evaluate(x_test, y_test,\n",
        "                            batch_size=batch_size)\n",
        "print('Test score:', score)\n",
        "print('Test accuracy:', acc)"
      ],
      "metadata": {
        "id": "W2RJ4pgKbs5t",
        "colab": {
          "base_uri": "https://localhost:8080/"
        },
        "outputId": "b4f0fb9a-ff86-4112-f027-b23493ade230"
      },
      "id": "W2RJ4pgKbs5t",
      "execution_count": 41,
      "outputs": [
        {
          "output_type": "stream",
          "name": "stdout",
          "text": [
            "782/782 [==============================] - 12s 15ms/step - loss: 0.4070 - accuracy: 0.8402\n",
            "Test score: 0.4070046544075012\n",
            "Test accuracy: 0.8402000069618225\n"
          ]
        }
      ]
    },
    {
      "cell_type": "markdown",
      "source": [
        "**Analysis:** These part of the task, I changed the values of maxlen, max_features, rnn_hidden_dim, and word_embedding_dim. Through this, the model was able to enhanced its perfromance since these parameters are significant in terms of manipulating the model's features and the dataset. These would maintain the data well as the model processes them as well as this would further add features in order to support the model in processing and classifying data."
      ],
      "metadata": {
        "id": "ZRwYMu9diGoL"
      },
      "id": "ZRwYMu9diGoL"
    },
    {
      "cell_type": "markdown",
      "id": "interpreted-stadium",
      "metadata": {
        "id": "interpreted-stadium"
      },
      "source": [
        "# Conclusion"
      ]
    },
    {
      "cell_type": "markdown",
      "source": [
        "In this activity, RNN was introduced and demonstrated through the code given. Also, manipulating the parameters included in the code is a big help in making comparisons of the performances of the model. Observing the differences of the perfromances would be a big help on how to enhance the model's perfromances through the parameters. In addition, this activity allows the student to apply the concept of RNN model in which is one of the models used in the field of deep learning technology that can be a big help in creating model and solve a given problem. Overall, making observations of the tasks and modifications made would be a stepping stone further understanding RNN and how to properly deploy or apply them in order to process and classify data."
      ],
      "metadata": {
        "id": "bI012D00Q3PZ"
      },
      "id": "bI012D00Q3PZ"
    },
    {
      "cell_type": "markdown",
      "source": [
        "**Honor Pledge: “I affirm that I shall not give or receive any unauthorized help on this assignment and that all work is my own.”**"
      ],
      "metadata": {
        "id": "zeVNjnJuOb81"
      },
      "id": "zeVNjnJuOb81"
    },
    {
      "cell_type": "markdown",
      "source": [
        "Google Colab Link: https://colab.research.google.com/drive/1ne2_OazR88N9RKHuffBEvme2lMS5TvEH?usp=sharing"
      ],
      "metadata": {
        "id": "XlyCwXq_PqsW"
      },
      "id": "XlyCwXq_PqsW"
    }
  ],
  "metadata": {
    "kernelspec": {
      "display_name": "Python 3",
      "language": "python",
      "name": "python3"
    },
    "language_info": {
      "codemirror_mode": {
        "name": "ipython",
        "version": 3
      },
      "file_extension": ".py",
      "mimetype": "text/x-python",
      "name": "python",
      "nbconvert_exporter": "python",
      "pygments_lexer": "ipython3",
      "version": "3.7.10"
    },
    "colab": {
      "provenance": []
    }
  },
  "nbformat": 4,
  "nbformat_minor": 5
}