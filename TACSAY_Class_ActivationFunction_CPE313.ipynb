{
  "nbformat": 4,
  "nbformat_minor": 0,
  "metadata": {
    "colab": {
      "provenance": []
    },
    "kernelspec": {
      "name": "python3",
      "display_name": "Python 3"
    },
    "language_info": {
      "name": "python"
    }
  },
  "cells": [
    {
      "cell_type": "code",
      "execution_count": null,
      "metadata": {
        "colab": {
          "base_uri": "https://localhost:8080/"
        },
        "id": "XZt1amxLKpQS",
        "outputId": "766c13f3-80ab-4966-8dfc-2c5e674775f8"
      },
      "outputs": [
        {
          "output_type": "stream",
          "name": "stdout",
          "text": [
            "[-2.         -1.88888889 -1.77777778 -1.66666667 -1.55555556 -1.44444444\n",
            " -1.33333333 -1.22222222 -1.11111111 -1.        ]\n",
            "[0.         0.11111111 0.22222222 0.33333333 0.44444444 0.55555556\n",
            " 0.66666667 0.77777778 0.88888889 1.        ]\n"
          ]
        }
      ],
      "source": [
        "import numpy as np\n",
        "\n",
        "class neuron:\n",
        "  def __intit__(self, input, weight):\n",
        "    self.input = input\n",
        "    self.weight = weight\n",
        "\n",
        "  def multiply(self, input, weight):\n",
        "    return np.multiply(input, weight)\n",
        "\n",
        "  def adder(self, input, weight):\n",
        "    return np.sum(np.multiply(input, weight))\n",
        "\n",
        "  def activation(self, list): #relu\n",
        "    return max(0.0, list)\n",
        "\n",
        "\n",
        "input = np.linspace(-2,-1,10)\n",
        "weight = np.linspace(0,1,10)\n",
        "\n",
        "obj = neuron()\n",
        "sum = obj.adder(input, weight)\n",
        "product = obj.multiply(input, weight)\n",
        "relu = obj.activation(sum)\n",
        "\n",
        "print(input)\n",
        "print(weight)"
      ]
    },
    {
      "cell_type": "code",
      "source": [
        "print(sum) #showing the weighted sum"
      ],
      "metadata": {
        "colab": {
          "base_uri": "https://localhost:8080/"
        },
        "id": "oHau7ZolNTQt",
        "outputId": "c1a04d1a-60cf-4ac6-fcb3-c3dde12d7dd7"
      },
      "execution_count": null,
      "outputs": [
        {
          "output_type": "stream",
          "name": "stdout",
          "text": [
            "-6.481481481481482\n"
          ]
        }
      ]
    },
    {
      "cell_type": "code",
      "source": [
        "print(relu) #using activation function relu"
      ],
      "metadata": {
        "colab": {
          "base_uri": "https://localhost:8080/"
        },
        "id": "DLZ70RjwURgl",
        "outputId": "7ab5d96a-d30f-41a8-b8a6-566267296536"
      },
      "execution_count": null,
      "outputs": [
        {
          "output_type": "stream",
          "name": "stdout",
          "text": [
            "0.0\n"
          ]
        }
      ]
    },
    {
      "cell_type": "code",
      "source": [
        "input = np.linspace(-1,1,10)\n",
        "weight = np.linspace(-1,0,10)\n",
        "\n",
        "obj = neuron()\n",
        "sum = obj.adder(input, weight)\n",
        "product = obj.multiply(input, weight)\n",
        "relu = obj.activation(sum)\n",
        "\n",
        "print(input)\n",
        "print(weight)"
      ],
      "metadata": {
        "id": "3QXL4UG1aFTV",
        "colab": {
          "base_uri": "https://localhost:8080/"
        },
        "outputId": "c90facc6-c03a-448b-adbe-5279fb82da33"
      },
      "execution_count": 31,
      "outputs": [
        {
          "output_type": "stream",
          "name": "stdout",
          "text": [
            "[-1.         -0.77777778 -0.55555556 -0.33333333 -0.11111111  0.11111111\n",
            "  0.33333333  0.55555556  0.77777778  1.        ]\n",
            "[-1.         -0.88888889 -0.77777778 -0.66666667 -0.55555556 -0.44444444\n",
            " -0.33333333 -0.22222222 -0.11111111  0.        ]\n"
          ]
        }
      ]
    },
    {
      "cell_type": "code",
      "source": [
        "print(sum) #showing the weighted sum"
      ],
      "metadata": {
        "colab": {
          "base_uri": "https://localhost:8080/"
        },
        "id": "DRySH-cda8EK",
        "outputId": "2adfe612-8337-4504-c4b5-60852c063fa2"
      },
      "execution_count": 32,
      "outputs": [
        {
          "output_type": "stream",
          "name": "stdout",
          "text": [
            "2.0370370370370368\n"
          ]
        }
      ]
    },
    {
      "cell_type": "code",
      "source": [
        "print(relu) #using activation function relu"
      ],
      "metadata": {
        "colab": {
          "base_uri": "https://localhost:8080/"
        },
        "id": "FcXojlU9a-UF",
        "outputId": "44a1c2a2-8efd-4fe2-df5b-7319a715b453"
      },
      "execution_count": 33,
      "outputs": [
        {
          "output_type": "stream",
          "name": "stdout",
          "text": [
            "2.0370370370370368\n"
          ]
        }
      ]
    }
  ]
}